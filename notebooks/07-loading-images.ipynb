{
 "cells": [
  {
   "cell_type": "code",
   "execution_count": null,
   "metadata": {},
   "outputs": [],
   "source": [
    "import torchvision\n",
    "from torchvision import datasets\n",
    "from torchvision import transforms\n",
    "import torch \n",
    "import torch.nn as nn \n",
    "import torch.optim as optim\n",
    "import torch.nn.functional as F\n",
    "from torch.utils.data import Dataset, DataLoader, SubsetRandomSampler, Subset\n",
    "from sklearn.model_selection import train_test_split\n",
    "import matplotlib.pyplot as plt \n",
    "from torchvision import models \n",
    "\n",
    "# to M1 GPU\n",
    "torch.set_default_device('mps')\n",
    "device = torch.device('mps')\n",
    "\n",
    "transforms = transforms.Compose([transforms.ToTensor()])\n",
    "\n",
    "# Load images\n",
    "dataset = datasets.ImageFolder('/Users/alihodroj/Downloads/medicalMNIST', transform=transforms)\n",
    "\n",
    "\n",
    "img_indices = list(range(len(dataset)))\n",
    "train_indices, test_indices = train_test_split(img_indices, test_size=0.2, random_state=42)\n",
    "\n",
    "train_dataloader = DataLoader(dataset, batch_size=100, sampler=SubsetRandomSampler(train_indices))\n",
    "test_dataloader = DataLoader(dataset, batch_size=100, sampler=SubsetRandomSampler(test_indices))\n",
    "\n",
    "model = models.resnet50(pretrained=True)\n",
    "model"
   ]
  },
  {
   "cell_type": "code",
   "execution_count": null,
   "metadata": {},
   "outputs": [],
   "source": [
    "for params in model.parameters():\n",
    "    params.requires_grad = False "
   ]
  },
  {
   "cell_type": "code",
   "execution_count": null,
   "metadata": {},
   "outputs": [],
   "source": [
    "\n",
    "fc = nn.Sequential(\n",
    "            nn.Linear(2048, 512),\n",
    "            nn.ReLU(),\n",
    "            nn.Linear(512, 6),\n",
    "            nn.LogSoftmax(dim=1)\n",
    "        )\n",
    "model.fc = fc \n",
    "\n",
    "criterion = nn.NLLLoss()\n",
    "optimizer = optim.Adam(model.fc.parameters(), lr=0.003)\n"
   ]
  },
  {
   "cell_type": "code",
   "execution_count": null,
   "metadata": {},
   "outputs": [],
   "source": [
    "# Train the model \n",
    "model.to(device)\n",
    "epochs = 5\n",
    "training_losses, test_losses = [], []\n",
    "\n",
    "model.train()\n",
    "\n",
    "for i in range(epochs): \n",
    "    print(f'Epoch {i} training a set of {len(train_dataloader)} batch_size={train_dataloader.batch_size}')\n",
    "    running_loss = 0\n",
    "    test_loss = 0 \n",
    "    batch_num = 0\n",
    "\n",
    "    for image, label in train_dataloader: \n",
    "        #print(f'-- Epoch {i}: batch # {batch_num} / {len(train_dataloader)}')    \n",
    "        batch_num += 1\n",
    "        \n",
    "        # move to MPS\n",
    "        image = image.to(device)\n",
    "        label = label.to(device)\n",
    "        \n",
    "        optimizer.zero_grad()\n",
    "        y_pred = model(image)\n",
    "        loss = criterion(y_pred, label)\n",
    "        loss.backward() \n",
    "        optimizer.step()\n",
    "        \n",
    "        running_loss += loss.item()\n",
    "    else: \n",
    "        with torch.no_grad(): \n",
    "            print(f'Epoch {i} evaluating a set of {len(test_dataloader)} batch_size={test_dataloader.batch_size}')\n",
    "            model.eval()\n",
    "            for t_images, t_labels in test_dataloader: \n",
    "            \n",
    "                t_images = t_images.to(device) \n",
    "                t_labels = t_labels.to(device) \n",
    "            \n",
    "                t_pred = model(t_images)\n",
    "                test_loss += criterion(t_pred, t_labels)\n",
    "                \n",
    "                ps = torch.exp(t_pred)\n",
    "                top_prediction, top_class = ps.topk(1, dim=1)\n",
    "                equals = top_class == t_labels.view(*top_class.shape)\n",
    "                accuracy = torch.mean(equals.type(torch.FloatTensor))\n",
    "            \n",
    "        # Put it back in training mode \n",
    "        model.train()\n",
    "\n",
    "        training_losses.append(running_loss/len(train_dataloader))\n",
    "        test_losses.append(test_loss/len(test_dataloader))\n",
    "        print(\"Epoch: {}/{}.. \".format(i+1, epochs),\n",
    "                \"Training Loss: {:.3f}.. \".format(training_losses[-1]),\n",
    "                \"Test Loss: {:.3f}.. \".format(test_losses[-1]),\n",
    "                \"Test Accuracy: {:.3f}\".format(accuracy/len(test_dataloader))) \n"
   ]
  },
  {
   "cell_type": "code",
   "execution_count": null,
   "metadata": {},
   "outputs": [],
   "source": [
    "plt.plot(training_losses, label='Training loss')\n",
    "plt.plot(test_losses, label='Validation loss')\n",
    "plt.legend(frameon=False)"
   ]
  }
 ],
 "metadata": {
  "kernelspec": {
   "display_name": "3.10.15",
   "language": "python",
   "name": "python3"
  },
  "language_info": {
   "codemirror_mode": {
    "name": "ipython",
    "version": 3
   },
   "file_extension": ".py",
   "mimetype": "text/x-python",
   "name": "python",
   "nbconvert_exporter": "python",
   "pygments_lexer": "ipython3",
   "version": "3.10.15"
  }
 },
 "nbformat": 4,
 "nbformat_minor": 2
}
