{
  "cells": [
    {
      "cell_type": "code",
      "execution_count": null,
      "id": "1fbc2940-0e05-43d4-97fa-006af804ca4b",
      "metadata": {},
      "outputs": [],
      "source": [
        "import torch \n",
        "import torch.nn as nn\n",
        "import torch.nn.functional as F\n"
      ]
    },
    {
      "cell_type": "code",
      "execution_count": null,
      "id": "441370e5-326f-4709-9771-46e6353bbfa8",
      "metadata": {},
      "outputs": [],
      "source": [
        "from torchvision import datasets, transforms\n",
        "\n",
        "# Define a transform to normalize the data\n",
        "transform = transforms.Compose([transforms.ToTensor(),\n",
        "                              transforms.Normalize((0.5,), (0.5,)),\n",
        "                              ])\n",
        "# Download and load the training data\n",
        "trainset = datasets.MNIST('~/.pytorch/MNIST_data/', download=True, train=True, transform=transform)\n",
        "trainloader = torch.utils.data.DataLoader(trainset, batch_size=64, shuffle=True)"
      ]
    },
    {
      "attachments": {},
      "cell_type": "markdown",
      "id": "e3902d59-be86-439f-91d4-328bb779e817",
      "metadata": {},
      "source": [
        "![alt text](mynetwork.png \"Custom network\")"
      ]
    },
    {
      "cell_type": "code",
      "execution_count": null,
      "id": "f2552b7e-f051-4b10-9d37-3d259a1dee31",
      "metadata": {},
      "outputs": [],
      "source": [
        "class ClassifierNetwork(nn.Module):\n",
        "    def __init__(self):\n",
        "        super().__init__()\n",
        "        self.hidden1 = nn.Linear(784, 128)\n",
        "        self.hidden2 = nn.Linear(128, 64)\n",
        "        self.output = nn.Linear(64, 10)\n",
        "        # need the loss layer / cross-entropy\n",
        "        \n",
        "    def forward(self, x):\n",
        "        x = self.hidden1(x)\n",
        "        x = F.relu(x)\n",
        "        x = self.hidden2(x)\n",
        "        x = F.relu(x)\n",
        "        x = self.output(x)\n",
        "        x = F.softmax(x, dim=1)\n",
        "        \n",
        "        return x\n",
        "    \n",
        "model = ClassifierNetwork()\n",
        "model"
      ]
    },
    {
      "cell_type": "code",
      "execution_count": null,
      "id": "0469ee7a-2034-4c8e-bb0e-2eb23d48ee62",
      "metadata": {},
      "outputs": [],
      "source": [
        "criterion = nn.NLLLoss()\n",
        "images, labels = next(iter(trainloader))\n",
        "\n",
        "images = images.view(images.shape[0], -1)\n",
        "logits = model(images)\n",
        "loss = criterion(logits, labels)\n",
        "\n"
      ]
    },
    {
      "cell_type": "code",
      "execution_count": null,
      "id": "2456395c-215b-4eb1-a704-2673d1923051",
      "metadata": {},
      "outputs": [],
      "source": []
    }
  ],
  "metadata": {
    "kernelspec": {
      "display_name": "3.10.15",
      "language": "python",
      "name": "python3"
    },
    "language_info": {
      "codemirror_mode": {
        "name": "ipython",
        "version": 3
      },
      "file_extension": ".py",
      "mimetype": "text/x-python",
      "name": "python",
      "pygments_lexer": "ipython3",
      "version": "3.10.15"
    }
  },
  "nbformat": 4,
  "nbformat_minor": 5
}
