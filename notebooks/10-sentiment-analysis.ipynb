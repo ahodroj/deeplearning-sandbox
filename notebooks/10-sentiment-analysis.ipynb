{
 "cells": [
  {
   "cell_type": "code",
   "id": "initial_id",
   "metadata": {
    "collapsed": true,
    "ExecuteTime": {
     "end_time": "2025-02-24T03:04:16.565916Z",
     "start_time": "2025-02-24T03:04:16.498965Z"
    }
   },
   "source": [
    "from pyiceberg.catalog import load_catalog\n",
    "\n",
    "catalog = load_catalog(\n",
    "    \"rest\",\n",
    "    **{\n",
    "        \"uri\": \"http://localhost:8181/\",\n",
    "    }\n",
    ")\n",
    "\n",
    "catalog.list_namespaces(())\n",
    "\n"
   ],
   "outputs": [
    {
     "data": {
      "text/plain": [
       "[('experient',), ('personal',)]"
      ]
     },
     "execution_count": 15,
     "metadata": {},
     "output_type": "execute_result"
    }
   ],
   "execution_count": 15
  },
  {
   "metadata": {
    "ExecuteTime": {
     "end_time": "2025-02-24T03:05:31.885443Z",
     "start_time": "2025-02-24T03:05:30.063170Z"
    }
   },
   "cell_type": "code",
   "source": [
    "from pyiceberg.schema import Schema\n",
    "from pyiceberg.types import NestedField, IntegerType, StringType\n",
    "\n",
    "# Define the schema for the table\n",
    "schema = Schema(\n",
    "    NestedField(1, \"id\", IntegerType(), required=True),\n",
    "    NestedField(2, \"name\", StringType(), required=False)\n",
    ")\n",
    "\n",
    "# Create the table in the `demo` namespace\n",
    "catalog.create_table(\"hodroj.sample_table\", schema)"
   ],
   "id": "40795b719c6615fa",
   "outputs": [
    {
     "data": {
      "text/plain": [
       "sample_table(\n",
       "  1: id: required int,\n",
       "  2: name: optional string\n",
       "),\n",
       "partition by: [],\n",
       "sort order: [],\n",
       "snapshot: null"
      ]
     },
     "execution_count": 16,
     "metadata": {},
     "output_type": "execute_result"
    }
   ],
   "execution_count": 16
  },
  {
   "metadata": {
    "ExecuteTime": {
     "end_time": "2025-02-24T03:06:01.125486Z",
     "start_time": "2025-02-24T03:06:00.999627Z"
    }
   },
   "cell_type": "code",
   "source": "t = catalog.load_table('hodroj.sample_table')",
   "id": "cb6bd980de9438e",
   "outputs": [],
   "execution_count": 18
  },
  {
   "metadata": {
    "ExecuteTime": {
     "end_time": "2025-02-24T03:06:23.987744Z",
     "start_time": "2025-02-24T03:06:23.979824Z"
    }
   },
   "cell_type": "code",
   "source": "t.location()",
   "id": "eefef1f51ec402ab",
   "outputs": [
    {
     "data": {
      "text/plain": [
       "'s3a://warehouse/hodroj/sample_table'"
      ]
     },
     "execution_count": 20,
     "metadata": {},
     "output_type": "execute_result"
    }
   ],
   "execution_count": 20
  }
 ],
 "metadata": {
  "kernelspec": {
   "display_name": "Python 3",
   "language": "python",
   "name": "python3"
  },
  "language_info": {
   "codemirror_mode": {
    "name": "ipython",
    "version": 2
   },
   "file_extension": ".py",
   "mimetype": "text/x-python",
   "name": "python",
   "nbconvert_exporter": "python",
   "pygments_lexer": "ipython2",
   "version": "2.7.6"
  }
 },
 "nbformat": 4,
 "nbformat_minor": 5
}
